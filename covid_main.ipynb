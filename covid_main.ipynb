{
  "nbformat": 4,
  "nbformat_minor": 0,
  "metadata": {
    "colab": {
      "name": "Copy of covid_main.ipynb",
      "provenance": [],
      "collapsed_sections": [],
      "authorship_tag": "ABX9TyNbsau6mlkBi6msTV2eJIEt",
      "include_colab_link": true
    },
    "kernelspec": {
      "name": "python3",
      "display_name": "Python 3"
    },
    "accelerator": "GPU"
  },
  "cells": [
    {
      "cell_type": "markdown",
      "metadata": {
        "id": "view-in-github",
        "colab_type": "text"
      },
      "source": [
        "<a href=\"https://colab.research.google.com/github/palanithanarajk/covid_diagnosis/blob/master/covid_main.ipynb\" target=\"_parent\"><img src=\"https://colab.research.google.com/assets/colab-badge.svg\" alt=\"Open In Colab\"/></a>"
      ]
    },
    {
      "cell_type": "markdown",
      "metadata": {
        "id": "XxrVlReLex8-",
        "colab_type": "text"
      },
      "source": [
        "# Covid-19 diagnosis from CT images based on Transfer Learning approach\n",
        "\n",
        "This tutorial notebook explains about the development of COVID diagnosis system based on `Transfer Learning` of pre-trained deep neural network specifically VGG16. \n",
        "\n",
        "This work is inspired from the GitHub repository which could be found in this URL: <https://github.com/UCSD-AI4H/COVID-CT> \n",
        "\n",
        "It has the dataset of CT images taken from COVID-19 patients and also Non-COVID subjects. Unlike the original implementation, this tutorial uses VGG16 for transfer learning of COVID features from CT images. "
      ]
    },
    {
      "cell_type": "markdown",
      "metadata": {
        "id": "P8_UkmrQg14-",
        "colab_type": "text"
      },
      "source": [
        "## Mount Gdrive for the dataset\n",
        "Download a copy of the dataset and upload into your Google Drive. Then mount the Gdrive for accessing the dataset"
      ]
    },
    {
      "cell_type": "code",
      "metadata": {
        "id": "QJDH-hnX5ZPg",
        "colab_type": "code",
        "colab": {
          "base_uri": "https://localhost:8080/",
          "height": 121
        },
        "outputId": "455dea25-0f1e-4652-ecc6-9455076936fc"
      },
      "source": [
        "from google.colab import drive\n",
        "drive.mount('/content/gdrive/')"
      ],
      "execution_count": null,
      "outputs": [
        {
          "output_type": "stream",
          "text": [
            "Go to this URL in a browser: https://accounts.google.com/o/oauth2/auth?client_id=947318989803-6bn6qk8qdgf4n4g3pfee6491hc0brc4i.apps.googleusercontent.com&redirect_uri=urn%3aietf%3awg%3aoauth%3a2.0%3aoob&response_type=code&scope=email%20https%3a%2f%2fwww.googleapis.com%2fauth%2fdocs.test%20https%3a%2f%2fwww.googleapis.com%2fauth%2fdrive%20https%3a%2f%2fwww.googleapis.com%2fauth%2fdrive.photos.readonly%20https%3a%2f%2fwww.googleapis.com%2fauth%2fpeopleapi.readonly\n",
            "\n",
            "Enter your authorization code:\n",
            "··········\n",
            "Mounted at /content/gdrive/\n"
          ],
          "name": "stdout"
        }
      ]
    },
    {
      "cell_type": "markdown",
      "metadata": {
        "id": "pKdXRjAFhWbq",
        "colab_type": "text"
      },
      "source": [
        "Change the path to your dataset folder "
      ]
    },
    {
      "cell_type": "code",
      "metadata": {
        "id": "m489-vKw502O",
        "colab_type": "code",
        "colab": {}
      },
      "source": [
        "import os\n",
        "os.chdir('gdrive/My Drive/rajudl/covid-gh/')"
      ],
      "execution_count": null,
      "outputs": []
    },
    {
      "cell_type": "markdown",
      "metadata": {
        "id": "7iFiCXDKhiQA",
        "colab_type": "text"
      },
      "source": [
        "Check the contents of the folder"
      ]
    },
    {
      "cell_type": "code",
      "metadata": {
        "id": "XE0tnasx8fH9",
        "colab_type": "code",
        "colab": {
          "base_uri": "https://localhost:8080/",
          "height": 34
        },
        "outputId": "64bcd529-264a-4d17-863a-7181f758c808"
      },
      "source": [
        "os.listdir()"
      ],
      "execution_count": null,
      "outputs": [
        {
          "output_type": "execute_result",
          "data": {
            "text/plain": [
              "['covid', 'nonCovid', 'cp.ckpt', 'Copy of malaria_main.ipynb']"
            ]
          },
          "metadata": {
            "tags": []
          },
          "execution_count": 3
        }
      ]
    },
    {
      "cell_type": "markdown",
      "metadata": {
        "id": "ugNY97_8hoPH",
        "colab_type": "text"
      },
      "source": [
        "Import Libraries such as OpenCV, Numpy, TQDM"
      ]
    },
    {
      "cell_type": "code",
      "metadata": {
        "id": "TEpc5x9Y_0V3",
        "colab_type": "code",
        "colab": {}
      },
      "source": [
        "import cv2\n",
        "import numpy as np\n",
        "from tqdm import tqdm\n"
      ],
      "execution_count": null,
      "outputs": []
    },
    {
      "cell_type": "markdown",
      "metadata": {
        "id": "CFKnzo3hhzna",
        "colab_type": "text"
      },
      "source": [
        "Initialize two lists namely 'x' for image data and 'z' for label"
      ]
    },
    {
      "cell_type": "code",
      "metadata": {
        "id": "P4s-ct7P8mCp",
        "colab_type": "code",
        "colab": {}
      },
      "source": [
        "x=[]\n",
        "z=[]\n",
        "covid_dir='covid'\n",
        "noncovid_dir='nonCovid'\n",
        "img_size=224"
      ],
      "execution_count": null,
      "outputs": []
    },
    {
      "cell_type": "markdown",
      "metadata": {
        "id": "CrrTHjpdiB0C",
        "colab_type": "text"
      },
      "source": [
        "Define a function to prepare the dataset as an numpy array"
      ]
    },
    {
      "cell_type": "code",
      "metadata": {
        "id": "QXCdaK8z9edc",
        "colab_type": "code",
        "colab": {}
      },
      "source": [
        "def train_prepare(img_type,dir):\n",
        "  for i in tqdm(os.listdir(dir)):\n",
        "    label=img_type\n",
        "    path=os.path.join(dir,i)\n",
        "    img=cv2.imread(path,cv2.IMREAD_COLOR)\n",
        "    img=cv2.resize(img,(img_size,img_size))\n",
        "    x.append(np.array(img))\n",
        "    z.append(label)"
      ],
      "execution_count": null,
      "outputs": []
    },
    {
      "cell_type": "markdown",
      "metadata": {
        "id": "bIkf_ncoiLQK",
        "colab_type": "text"
      },
      "source": [
        "create the list related to the Covid images"
      ]
    },
    {
      "cell_type": "code",
      "metadata": {
        "id": "1abJN6hB9tVm",
        "colab_type": "code",
        "colab": {
          "base_uri": "https://localhost:8080/",
          "height": 34
        },
        "outputId": "00110b6c-7a0c-4437-8c1e-539fe00e57ab"
      },
      "source": [
        "train_prepare('covid',covid_dir)"
      ],
      "execution_count": null,
      "outputs": [
        {
          "output_type": "stream",
          "text": [
            "100%|██████████| 349/349 [02:45<00:00,  2.11it/s]\n"
          ],
          "name": "stderr"
        }
      ]
    },
    {
      "cell_type": "markdown",
      "metadata": {
        "id": "ZsL1jZ2MiPU3",
        "colab_type": "text"
      },
      "source": [
        "create the list related to the Non Covid images"
      ]
    },
    {
      "cell_type": "code",
      "metadata": {
        "id": "YSxWHKT4Apzi",
        "colab_type": "code",
        "colab": {
          "base_uri": "https://localhost:8080/",
          "height": 34
        },
        "outputId": "586fc127-46ed-4bf5-d010-153aa1577d3a"
      },
      "source": [
        "train_prepare('nonCovid',noncovid_dir)"
      ],
      "execution_count": null,
      "outputs": [
        {
          "output_type": "stream",
          "text": [
            "100%|██████████| 397/397 [03:01<00:00,  2.19it/s]\n"
          ],
          "name": "stderr"
        }
      ]
    },
    {
      "cell_type": "markdown",
      "metadata": {
        "id": "VAdQZ4mSipMo",
        "colab_type": "text"
      },
      "source": [
        "Check the otal number for samples"
      ]
    },
    {
      "cell_type": "code",
      "metadata": {
        "id": "c5HigAhpBqS7",
        "colab_type": "code",
        "colab": {
          "base_uri": "https://localhost:8080/",
          "height": 34
        },
        "outputId": "153316ca-ced1-4335-97fe-5890e01d95e6"
      },
      "source": [
        "len(z)"
      ],
      "execution_count": null,
      "outputs": [
        {
          "output_type": "execute_result",
          "data": {
            "text/plain": [
              "746"
            ]
          },
          "metadata": {
            "tags": []
          },
          "execution_count": 10
        }
      ]
    },
    {
      "cell_type": "markdown",
      "metadata": {
        "id": "s5_k0cZJivVh",
        "colab_type": "text"
      },
      "source": [
        "Plot few sample images randomly from the prepared list"
      ]
    },
    {
      "cell_type": "code",
      "metadata": {
        "id": "9Q1an7mRBKfN",
        "colab_type": "code",
        "colab": {
          "base_uri": "https://localhost:8080/",
          "height": 322
        },
        "outputId": "67675e70-1d61-4836-f69d-6cf23ef77c64"
      },
      "source": [
        "import matplotlib.pyplot as plt\n",
        "import random as rn\n",
        "fig,ax=plt.subplots(2,2)\n",
        "fig.set_size_inches(5,5)\n",
        "for i in range(2):\n",
        "  for j in range(2):\n",
        "    r=rn.randint(0,len(z))\n",
        "    ax[i,j].imshow(x[r])\n",
        "    ax[i,j].set_title(z[r])\n",
        "    ax[i,j].grid(False)\n",
        "    ax[i,j].set_xticks([])\n",
        "    ax[i,j].set_yticks([])\n"
      ],
      "execution_count": null,
      "outputs": [
        {
          "output_type": "display_data",
          "data": {
            "image/png": "[encoded data removed]",
            "text/plain": [
              "<Figure size 360x360 with 4 Axes>"
            ]
          },
          "metadata": {
            "tags": []
          }
        }
      ]
    },
    {
      "cell_type": "markdown",
      "metadata": {
        "id": "MRICpVm_i3Qo",
        "colab_type": "text"
      },
      "source": [
        "Normalize the pixel values of the images as well modify the labels so that it is categorial "
      ]
    },
    {
      "cell_type": "code",
      "metadata": {
        "id": "kxNxiaU3DlW9",
        "colab_type": "code",
        "colab": {
          "base_uri": "https://localhost:8080/",
          "height": 34
        },
        "outputId": "88756b2a-507f-4c4e-d163-e0e3679d0d31"
      },
      "source": [
        "from sklearn.preprocessing import LabelEncoder\n",
        "from keras.utils import to_categorical\n",
        "\n",
        "le=LabelEncoder()\n",
        "Y=le.fit_transform(z)\n",
        "Y=to_categorical(Y,2)\n",
        "X=np.array(x)\n",
        "X=X/255"
      ],
      "execution_count": null,
      "outputs": [
        {
          "output_type": "stream",
          "text": [
            "Using TensorFlow backend.\n"
          ],
          "name": "stderr"
        }
      ]
    },
    {
      "cell_type": "markdown",
      "metadata": {
        "id": "7QDFNXQdjGaa",
        "colab_type": "text"
      },
      "source": [
        "Perform a data partition for making the training and test split"
      ]
    },
    {
      "cell_type": "code",
      "metadata": {
        "id": "sh59A4uBEDSw",
        "colab_type": "code",
        "colab": {}
      },
      "source": [
        "from sklearn.model_selection import train_test_split\n",
        "x_train,x_test,y_train,y_test=train_test_split(X,Y,test_size=0.2,random_state=42)\n"
      ],
      "execution_count": null,
      "outputs": []
    },
    {
      "cell_type": "markdown",
      "metadata": {
        "id": "8Qc8rK-ujMTJ",
        "colab_type": "text"
      },
      "source": [
        "Import libraries for deep learning such as Tensorflow and Keras.\n",
        "\n",
        "Modify the pre-trained neural net, VGG16 for transfer learning.\n"
      ]
    },
    {
      "cell_type": "code",
      "metadata": {
        "id": "7gXTjlWdFCOK",
        "colab_type": "code",
        "colab": {
          "base_uri": "https://localhost:8080/",
          "height": 70
        },
        "outputId": "f1d7ca3c-992d-4e7f-84cb-397fcc6b95f4"
      },
      "source": [
        "# # modelling starts using a CNN.\n",
        "#dl libraraies\n",
        "from keras import backend as K\n",
        "from keras.models import Sequential\n",
        "from keras.layers import Dense\n",
        "from keras.optimizers import Adam,SGD,Adagrad,Adadelta,RMSprop\n",
        "from keras.utils import to_categorical\n",
        "# specifically for cnn\n",
        "from keras.layers import Dropout, Flatten,Activation\n",
        "from keras.layers import Conv2D, MaxPooling2D, BatchNormalization,GlobalAveragePooling2D\n",
        "from keras.models import Model\n",
        "\n",
        "##\n",
        "#model = Sequential()\n",
        "#model.add(Conv2D(filters = 32, kernel_size = (5,5),padding = 'Same',activation ='relu', input_shape = (224,224,3)))\n",
        "#model.add(MaxPooling2D(pool_size=(2,2)))\n",
        "#model.add(Conv2D(filters = 64, kernel_size = (3,3),padding = 'Same',activation ='relu'))\n",
        "#model.add(MaxPooling2D(pool_size=(2,2), strides=(2,2)))\n",
        "#model.add(Conv2D(filters =96, kernel_size = (3,3),padding = 'Same',activation ='relu'))\n",
        "#model.add(MaxPooling2D(pool_size=(2,2), strides=(2,2)))\n",
        "#model.add(Conv2D(filters = 96, kernel_size = (3,3),padding = 'Same',activation ='relu'))\n",
        "#model.add(MaxPooling2D(pool_size=(2,2), strides=(2,2)))\n",
        "#model.add(Flatten())\n",
        "#model.add(Dense(512))\n",
        "#model.add(Activation('relu'))\n",
        "#model.add(Dense(2, activation = \"softmax\"))\n",
        "### Pretrained nets\n",
        "#from keras.applications.densenet import DenseNet121\n",
        "from keras.applications.vgg16 import VGG16\n",
        "\n",
        "input_shape=(224, 224, 3)\n",
        "base_model =VGG16(weights='imagenet', include_top=False, input_shape=input_shape)\n",
        "# DenseNet121 ,\n",
        "# add a global spatial average pooling layer\n",
        "x = base_model.output\n",
        "x = GlobalAveragePooling2D()(x)\n",
        "# let's add a fully-connected layer\n",
        "x = Dense(1024, activation='relu')(x)\n",
        "# and a logistic layer -- let's say we have 200 classes\n",
        "predictions = Dense(2, activation='softmax')(x)\n",
        "\n",
        "# this is the model we will train\n",
        "model = Model(inputs=base_model.input, outputs=predictions)\n",
        "\n",
        "# first: train only the top layers (which were randomly initialized)\n",
        "# i.e. freeze all convolutional InceptionV3 layers\n",
        "for layer in base_model.layers:\n",
        "    layer.trainable = False\n"
      ],
      "execution_count": null,
      "outputs": [
        {
          "output_type": "stream",
          "text": [
            "Downloading data from https://github.com/fchollet/deep-learning-models/releases/download/v0.1/vgg16_weights_tf_dim_ordering_tf_kernels_notop.h5\n",
            "58892288/58889256 [==============================] - 3s 0us/step\n"
          ],
          "name": "stdout"
        }
      ]
    },
    {
      "cell_type": "markdown",
      "metadata": {
        "id": "kHgLByEKjsyZ",
        "colab_type": "text"
      },
      "source": [
        "Compile the modified CNN architecture\n",
        "\n",
        "Fit the compiled model by specifying the batch size and epochs"
      ]
    },
    {
      "cell_type": "code",
      "metadata": {
        "id": "8RZC3PgVQdZW",
        "colab_type": "code",
        "colab": {
          "base_uri": "https://localhost:8080/",
          "height": 1000
        },
        "outputId": "8d9f231c-0fea-49fb-d4f1-3728f20a1d7a"
      },
      "source": [
        "import tensorflow as tf\n",
        "from keras.callbacks import ModelCheckpoint\n",
        "\n",
        "checkpoint_path = \"cp.ckpt\"\n",
        "checkpoint_dir = os.path.dirname(checkpoint_path)\n",
        "callback = ModelCheckpoint(filepath=checkpoint_path,monitor='val_accuracy',save_best_only=True,\n",
        "                                                 save_weights_only=True,\n",
        "                                                 verbose=1)\n",
        "datagen = tf.keras.preprocessing.image.ImageDataGenerator(featurewise_center=True,\n",
        "    featurewise_std_normalization=True,\n",
        "    rotation_range=2,\n",
        "    width_shift_range=0.2,\n",
        "    height_shift_range=0.2,\n",
        "    horizontal_flip=True)\n",
        "# compute quantities required for featurewise normalization\n",
        "# (std, mean, and principal components if ZCA whitening is applied)\n",
        "datagen.fit(x_train)\n",
        "epochs=20\n",
        "model.compile(optimizer=Adam(lr=0.001),loss='categorical_crossentropy',metrics=['accuracy'])\n",
        "\n",
        "# fits the model on batches with real-time data augmentation:\n",
        "History=model.fit_generator(datagen.flow(x_train, y_train, batch_size=32),callbacks=[callback],\n",
        "                  validation_data=(x_test,y_test),  steps_per_epoch=len(x_train) / 32, epochs=epochs)"
      ],
      "execution_count": null,
      "outputs": [
        {
          "output_type": "stream",
          "text": [
            "Epoch 1/20\n",
            "19/18 [==============================] - 20s 1s/step - loss: 0.6596 - accuracy: 0.6174 - val_loss: 0.5793 - val_accuracy: 0.7467\n",
            "\n",
            "Epoch 00001: val_accuracy improved from -inf to 0.74667, saving model to cp.ckpt\n",
            "Epoch 2/20\n",
            "19/18 [==============================] - 8s 398ms/step - loss: 0.5465 - accuracy: 0.7198 - val_loss: 0.5270 - val_accuracy: 0.7533\n",
            "\n",
            "Epoch 00002: val_accuracy improved from 0.74667 to 0.75333, saving model to cp.ckpt\n",
            "Epoch 3/20\n",
            "19/18 [==============================] - 9s 478ms/step - loss: 0.4763 - accuracy: 0.7802 - val_loss: 0.4972 - val_accuracy: 0.7667\n",
            "\n",
            "Epoch 00003: val_accuracy improved from 0.75333 to 0.76667, saving model to cp.ckpt\n",
            "Epoch 4/20\n",
            "19/18 [==============================] - 9s 473ms/step - loss: 0.4805 - accuracy: 0.7668 - val_loss: 0.4761 - val_accuracy: 0.7933\n",
            "\n",
            "Epoch 00004: val_accuracy improved from 0.76667 to 0.79333, saving model to cp.ckpt\n",
            "Epoch 5/20\n",
            "19/18 [==============================] - 9s 478ms/step - loss: 0.4202 - accuracy: 0.8205 - val_loss: 0.4631 - val_accuracy: 0.7667\n",
            "\n",
            "Epoch 00005: val_accuracy did not improve from 0.79333\n",
            "Epoch 6/20\n",
            "19/18 [==============================] - 9s 475ms/step - loss: 0.4349 - accuracy: 0.8087 - val_loss: 0.6855 - val_accuracy: 0.6067\n",
            "\n",
            "Epoch 00006: val_accuracy did not improve from 0.79333\n",
            "Epoch 7/20\n",
            "19/18 [==============================] - 9s 475ms/step - loss: 0.4181 - accuracy: 0.7886 - val_loss: 0.4987 - val_accuracy: 0.7467\n",
            "\n",
            "Epoch 00007: val_accuracy did not improve from 0.79333\n",
            "Epoch 8/20\n",
            "19/18 [==============================] - 9s 475ms/step - loss: 0.4312 - accuracy: 0.7987 - val_loss: 0.4541 - val_accuracy: 0.7733\n",
            "\n",
            "Epoch 00008: val_accuracy did not improve from 0.79333\n",
            "Epoch 9/20\n",
            "19/18 [==============================] - 9s 474ms/step - loss: 0.3861 - accuracy: 0.8289 - val_loss: 0.4506 - val_accuracy: 0.7733\n",
            "\n",
            "Epoch 00009: val_accuracy did not improve from 0.79333\n",
            "Epoch 10/20\n",
            "19/18 [==============================] - 9s 475ms/step - loss: 0.4119 - accuracy: 0.8003 - val_loss: 0.4471 - val_accuracy: 0.7800\n",
            "\n",
            "Epoch 00010: val_accuracy did not improve from 0.79333\n",
            "Epoch 11/20\n",
            "19/18 [==============================] - 9s 475ms/step - loss: 0.3611 - accuracy: 0.8389 - val_loss: 0.4392 - val_accuracy: 0.7800\n",
            "\n",
            "Epoch 00011: val_accuracy did not improve from 0.79333\n",
            "Epoch 12/20\n",
            "19/18 [==============================] - 11s 564ms/step - loss: 0.3265 - accuracy: 0.8607 - val_loss: 0.4389 - val_accuracy: 0.7867\n",
            "\n",
            "Epoch 00012: val_accuracy did not improve from 0.79333\n",
            "Epoch 13/20\n",
            "19/18 [==============================] - 8s 422ms/step - loss: 0.3033 - accuracy: 0.8591 - val_loss: 0.4294 - val_accuracy: 0.8133\n",
            "\n",
            "Epoch 00013: val_accuracy improved from 0.79333 to 0.81333, saving model to cp.ckpt\n",
            "Epoch 14/20\n",
            "19/18 [==============================] - 9s 476ms/step - loss: 0.3292 - accuracy: 0.8490 - val_loss: 0.4690 - val_accuracy: 0.7733\n",
            "\n",
            "Epoch 00014: val_accuracy did not improve from 0.81333\n",
            "Epoch 15/20\n",
            "19/18 [==============================] - 9s 480ms/step - loss: 0.2976 - accuracy: 0.8826 - val_loss: 0.4379 - val_accuracy: 0.7800\n",
            "\n",
            "Epoch 00015: val_accuracy did not improve from 0.81333\n",
            "Epoch 16/20\n",
            "19/18 [==============================] - 9s 473ms/step - loss: 0.3060 - accuracy: 0.8809 - val_loss: 0.5269 - val_accuracy: 0.7400\n",
            "\n",
            "Epoch 00016: val_accuracy did not improve from 0.81333\n",
            "Epoch 17/20\n",
            "19/18 [==============================] - 9s 497ms/step - loss: 0.3075 - accuracy: 0.8624 - val_loss: 0.4560 - val_accuracy: 0.7667\n",
            "\n",
            "Epoch 00017: val_accuracy did not improve from 0.81333\n",
            "Epoch 18/20\n",
            "19/18 [==============================] - 9s 466ms/step - loss: 0.2812 - accuracy: 0.8725 - val_loss: 0.4605 - val_accuracy: 0.7733\n",
            "\n",
            "Epoch 00018: val_accuracy did not improve from 0.81333\n",
            "Epoch 19/20\n",
            "19/18 [==============================] - 9s 477ms/step - loss: 0.2728 - accuracy: 0.8775 - val_loss: 0.4275 - val_accuracy: 0.8067\n",
            "\n",
            "Epoch 00019: val_accuracy did not improve from 0.81333\n",
            "Epoch 20/20\n",
            "19/18 [==============================] - 9s 476ms/step - loss: 0.2636 - accuracy: 0.8876 - val_loss: 0.4282 - val_accuracy: 0.8267\n",
            "\n",
            "Epoch 00020: val_accuracy improved from 0.81333 to 0.82667, saving model to cp.ckpt\n"
          ],
          "name": "stdout"
        }
      ]
    },
    {
      "cell_type": "markdown",
      "metadata": {
        "id": "v4-YBmMqj4TG",
        "colab_type": "text"
      },
      "source": [
        "Plotting of the accuracy during the training process"
      ]
    },
    {
      "cell_type": "code",
      "metadata": {
        "id": "OTAIklZ2HmlP",
        "colab_type": "code",
        "colab": {
          "base_uri": "https://localhost:8080/",
          "height": 295
        },
        "outputId": "6d1940fa-5083-42be-be56-796013c527c9"
      },
      "source": [
        "plt.plot(History.history['accuracy'])\n",
        "plt.plot(History.history['val_accuracy'])\n",
        "plt.title('Model Accuracy')\n",
        "plt.ylabel('Accuracy')\n",
        "plt.xlabel('Epochs')\n",
        "plt.legend(['train', 'test'])\n",
        "plt.show()"
      ],
      "execution_count": null,
      "outputs": [
        {
          "output_type": "display_data",
          "data": {
            "image/png": "[encoded data removed]",
            "text/plain": [
              "<Figure size 432x288 with 1 Axes>"
            ]
          },
          "metadata": {
            "tags": [],
            "needs_background": "light"
          }
        }
      ]
    },
    {
      "cell_type": "markdown",
      "metadata": {
        "id": "lpf5LFtuj8yN",
        "colab_type": "text"
      },
      "source": [
        "Evaluate the Trained model"
      ]
    },
    {
      "cell_type": "code",
      "metadata": {
        "id": "iA_gaGEyH7K1",
        "colab_type": "code",
        "colab": {
          "base_uri": "https://localhost:8080/",
          "height": 67
        },
        "outputId": "17a4fb46-8ebd-4387-d040-5f1cd9903024"
      },
      "source": [
        "# Evaluate the model on the test data using `evaluate`\n",
        "model.load_weights(checkpoint_path)\n",
        "\n",
        "print(\"Evaluate on test data\")\n",
        "results = model.evaluate(x_test, y_test, batch_size=32)\n",
        "print(\"Test Accuracy:\", results[1])\n"
      ],
      "execution_count": null,
      "outputs": [
        {
          "output_type": "stream",
          "text": [
            "Evaluate on test data\n",
            "150/150 [==============================] - 1s 10ms/step\n",
            "Test Accuracy: 0.8266666531562805\n"
          ],
          "name": "stdout"
        }
      ]
    },
    {
      "cell_type": "markdown",
      "metadata": {
        "id": "shucMwaJkApY",
        "colab_type": "text"
      },
      "source": [
        "Save the trained model"
      ]
    },
    {
      "cell_type": "code",
      "metadata": {
        "id": "ES8P3BE_i6B6",
        "colab_type": "code",
        "colab": {}
      },
      "source": [
        "model.save('savedmodel/covid_model') "
      ],
      "execution_count": null,
      "outputs": []
    },
    {
      "cell_type": "markdown",
      "metadata": {
        "id": "RH3npZOTkExa",
        "colab_type": "text"
      },
      "source": [
        "Perform predictions using the test dataset"
      ]
    },
    {
      "cell_type": "code",
      "metadata": {
        "id": "FXr_0ovmkAG8",
        "colab_type": "code",
        "colab": {}
      },
      "source": [
        "\n",
        "predictions = model.predict(x_test)\n",
        "# Get most likely class\n",
        "predicted_classes = np.argmax(predictions, axis=1)\n",
        "true_classes=np.argmax(y_test,axis=1)"
      ],
      "execution_count": null,
      "outputs": []
    },
    {
      "cell_type": "markdown",
      "metadata": {
        "id": "uR-sr6WVkKs3",
        "colab_type": "text"
      },
      "source": [
        "Compute the performance scores and confusion matrix"
      ]
    },
    {
      "cell_type": "code",
      "metadata": {
        "id": "0gaMjlqUjk38",
        "colab_type": "code",
        "colab": {
          "base_uri": "https://localhost:8080/",
          "height": 218
        },
        "outputId": "95e29823-ad08-4c80-a9dc-e5d294e4848c"
      },
      "source": [
        "import sklearn.metrics as metrics\n",
        "from sklearn.metrics import confusion_matrix\n",
        "report1 = metrics.classification_report(true_classes,predicted_classes)\n",
        "report2 = metrics.accuracy_score(true_classes,predicted_classes)\n",
        "print(report1)\n",
        "print(report2)\n",
        "confusion_matrix(true_classes,predicted_classes)"
      ],
      "execution_count": null,
      "outputs": [
        {
          "output_type": "stream",
          "text": [
            "              precision    recall  f1-score   support\n",
            "\n",
            "           0       0.81      0.83      0.82        70\n",
            "           1       0.85      0.82      0.84        80\n",
            "\n",
            "    accuracy                           0.83       150\n",
            "   macro avg       0.83      0.83      0.83       150\n",
            "weighted avg       0.83      0.83      0.83       150\n",
            "\n",
            "0.8266666666666667\n"
          ],
          "name": "stdout"
        },
        {
          "output_type": "execute_result",
          "data": {
            "text/plain": [
              "array([[58, 12],\n",
              "       [14, 66]])"
            ]
          },
          "metadata": {
            "tags": []
          },
          "execution_count": 36
        }
      ]
    },
    {
      "cell_type": "code",
      "metadata": {
        "id": "E7b9DjwFkPFv",
        "colab_type": "code",
        "colab": {}
      },
      "source": [
        "Plot the ROC plot"
      ],
      "execution_count": null,
      "outputs": []
    },
    {
      "cell_type": "code",
      "metadata": {
        "id": "X32m1Zjkjo4H",
        "colab_type": "code",
        "colab": {
          "base_uri": "https://localhost:8080/",
          "height": 295
        },
        "outputId": "39051319-050b-4746-8a81-fb9b52c94170"
      },
      "source": [
        "from sklearn.metrics import roc_curve, auc\n",
        "fpr_keras, tpr_keras, thresholds_keras = roc_curve(true_classes, predictions[:,1])\n",
        "auc_rf = auc(fpr_keras, tpr_keras)\n",
        "auc_rf\n",
        "\n",
        "import matplotlib.pyplot as plt\n",
        "plt.figure(1)\n",
        "plt.plot([0, 1], [0, 1], 'k--')\n",
        "plt.plot(fpr_keras, tpr_keras, label='ROC (area = {:.3f})'.format(auc_rf))\n",
        "plt.xlabel('False positive rate')\n",
        "plt.ylabel('True positive rate')\n",
        "plt.title('ROC curve')\n",
        "plt.legend(loc='best')\n",
        "plt.show()"
      ],
      "execution_count": null,
      "outputs": [
        {
          "output_type": "display_data",
          "data": {
            "image/png": "[encoded data removed]",
            "text/plain": [
              "<Figure size 432x288 with 1 Axes>"
            ]
          },
          "metadata": {
            "tags": [],
            "needs_background": "light"
          }
        }
      ]
    },
    {
      "cell_type": "markdown",
      "metadata": {
        "id": "2w5g-bJgkWWL",
        "colab_type": "text"
      },
      "source": [
        "Model Summary"
      ]
    },
    {
      "cell_type": "code",
      "metadata": {
        "id": "s3MX66Oxn15u",
        "colab_type": "code",
        "colab": {
          "base_uri": "https://localhost:8080/",
          "height": 890
        },
        "outputId": "fc6fefb1-c31f-4b8c-deeb-0371d1824140"
      },
      "source": [
        "new_model = tf.keras.models.load_model('savedmodel/my_model')\n",
        "\n",
        "# Check its architecture\n",
        "new_model.summary()"
      ],
      "execution_count": null,
      "outputs": [
        {
          "output_type": "stream",
          "text": [
            "Model: \"model_1\"\n",
            "_________________________________________________________________\n",
            "Layer (type)                 Output Shape              Param #   \n",
            "=================================================================\n",
            "input_1 (InputLayer)         [(None, 224, 224, 3)]     0         \n",
            "_________________________________________________________________\n",
            "block1_conv1 (Conv2D)        (None, 224, 224, 64)      1792      \n",
            "_________________________________________________________________\n",
            "block1_conv2 (Conv2D)        (None, 224, 224, 64)      36928     \n",
            "_________________________________________________________________\n",
            "block1_pool (MaxPooling2D)   (None, 112, 112, 64)      0         \n",
            "_________________________________________________________________\n",
            "block2_conv1 (Conv2D)        (None, 112, 112, 128)     73856     \n",
            "_________________________________________________________________\n",
            "block2_conv2 (Conv2D)        (None, 112, 112, 128)     147584    \n",
            "_________________________________________________________________\n",
            "block2_pool (MaxPooling2D)   (None, 56, 56, 128)       0         \n",
            "_________________________________________________________________\n",
            "block3_conv1 (Conv2D)        (None, 56, 56, 256)       295168    \n",
            "_________________________________________________________________\n",
            "block3_conv2 (Conv2D)        (None, 56, 56, 256)       590080    \n",
            "_________________________________________________________________\n",
            "block3_conv3 (Conv2D)        (None, 56, 56, 256)       590080    \n",
            "_________________________________________________________________\n",
            "block3_pool (MaxPooling2D)   (None, 28, 28, 256)       0         \n",
            "_________________________________________________________________\n",
            "block4_conv1 (Conv2D)        (None, 28, 28, 512)       1180160   \n",
            "_________________________________________________________________\n",
            "block4_conv2 (Conv2D)        (None, 28, 28, 512)       2359808   \n",
            "_________________________________________________________________\n",
            "block4_conv3 (Conv2D)        (None, 28, 28, 512)       2359808   \n",
            "_________________________________________________________________\n",
            "block4_pool (MaxPooling2D)   (None, 14, 14, 512)       0         \n",
            "_________________________________________________________________\n",
            "block5_conv1 (Conv2D)        (None, 14, 14, 512)       2359808   \n",
            "_________________________________________________________________\n",
            "block5_conv2 (Conv2D)        (None, 14, 14, 512)       2359808   \n",
            "_________________________________________________________________\n",
            "block5_conv3 (Conv2D)        (None, 14, 14, 512)       2359808   \n",
            "_________________________________________________________________\n",
            "block5_pool (MaxPooling2D)   (None, 7, 7, 512)         0         \n",
            "_________________________________________________________________\n",
            "global_average_pooling2d_1 ( (None, 512)               0         \n",
            "_________________________________________________________________\n",
            "dense_1 (Dense)              (None, 1024)              525312    \n",
            "_________________________________________________________________\n",
            "dense_2 (Dense)              (None, 2)                 2050      \n",
            "=================================================================\n",
            "Total params: 15,242,050\n",
            "Trainable params: 527,362\n",
            "Non-trainable params: 14,714,688\n",
            "_________________________________________________________________\n"
          ],
          "name": "stdout"
        }
      ]
    }
  ]
}